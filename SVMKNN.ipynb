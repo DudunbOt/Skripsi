{
 "cells": [
  {
   "cell_type": "markdown",
   "metadata": {},
   "source": [
    "### Importing necessary libraries"
   ]
  },
  {
   "cell_type": "code",
   "execution_count": 1,
   "metadata": {},
   "outputs": [],
   "source": [
    "import numpy as np\n",
    "import pandas as pd\n",
    "import matplotlib.pyplot as plt\n",
    "import pickle\n",
    "\n",
    "%matplotlib inline"
   ]
  },
  {
   "cell_type": "markdown",
   "metadata": {},
   "source": [
    "### Load the data"
   ]
  },
  {
   "cell_type": "code",
   "execution_count": 2,
   "metadata": {},
   "outputs": [
    {
     "data": {
      "text/html": [
       "<div>\n",
       "<style scoped>\n",
       "    .dataframe tbody tr th:only-of-type {\n",
       "        vertical-align: middle;\n",
       "    }\n",
       "\n",
       "    .dataframe tbody tr th {\n",
       "        vertical-align: top;\n",
       "    }\n",
       "\n",
       "    .dataframe thead th {\n",
       "        text-align: right;\n",
       "    }\n",
       "</style>\n",
       "<table border=\"1\" class=\"dataframe\">\n",
       "  <thead>\n",
       "    <tr style=\"text-align: right;\">\n",
       "      <th></th>\n",
       "      <th>clump</th>\n",
       "      <th>u_cellsize</th>\n",
       "      <th>u_cellshape</th>\n",
       "      <th>adhesion</th>\n",
       "      <th>se_cellsize</th>\n",
       "      <th>br_nuclei</th>\n",
       "      <th>bl_chromatin</th>\n",
       "      <th>n_nucleoli</th>\n",
       "      <th>mitoses</th>\n",
       "      <th>class</th>\n",
       "    </tr>\n",
       "  </thead>\n",
       "  <tbody>\n",
       "    <tr>\n",
       "      <th>0</th>\n",
       "      <td>5</td>\n",
       "      <td>1</td>\n",
       "      <td>1</td>\n",
       "      <td>1</td>\n",
       "      <td>2</td>\n",
       "      <td>1</td>\n",
       "      <td>3</td>\n",
       "      <td>1</td>\n",
       "      <td>1</td>\n",
       "      <td>2</td>\n",
       "    </tr>\n",
       "    <tr>\n",
       "      <th>1</th>\n",
       "      <td>5</td>\n",
       "      <td>4</td>\n",
       "      <td>4</td>\n",
       "      <td>5</td>\n",
       "      <td>7</td>\n",
       "      <td>10</td>\n",
       "      <td>3</td>\n",
       "      <td>2</td>\n",
       "      <td>1</td>\n",
       "      <td>2</td>\n",
       "    </tr>\n",
       "    <tr>\n",
       "      <th>2</th>\n",
       "      <td>3</td>\n",
       "      <td>1</td>\n",
       "      <td>1</td>\n",
       "      <td>1</td>\n",
       "      <td>2</td>\n",
       "      <td>2</td>\n",
       "      <td>3</td>\n",
       "      <td>1</td>\n",
       "      <td>1</td>\n",
       "      <td>2</td>\n",
       "    </tr>\n",
       "    <tr>\n",
       "      <th>3</th>\n",
       "      <td>6</td>\n",
       "      <td>8</td>\n",
       "      <td>8</td>\n",
       "      <td>1</td>\n",
       "      <td>3</td>\n",
       "      <td>4</td>\n",
       "      <td>3</td>\n",
       "      <td>7</td>\n",
       "      <td>1</td>\n",
       "      <td>2</td>\n",
       "    </tr>\n",
       "    <tr>\n",
       "      <th>4</th>\n",
       "      <td>4</td>\n",
       "      <td>1</td>\n",
       "      <td>1</td>\n",
       "      <td>3</td>\n",
       "      <td>2</td>\n",
       "      <td>1</td>\n",
       "      <td>3</td>\n",
       "      <td>1</td>\n",
       "      <td>1</td>\n",
       "      <td>2</td>\n",
       "    </tr>\n",
       "  </tbody>\n",
       "</table>\n",
       "</div>"
      ],
      "text/plain": [
       "   clump  u_cellsize  u_cellshape  adhesion  se_cellsize br_nuclei  \\\n",
       "0      5           1            1         1            2         1   \n",
       "1      5           4            4         5            7        10   \n",
       "2      3           1            1         1            2         2   \n",
       "3      6           8            8         1            3         4   \n",
       "4      4           1            1         3            2         1   \n",
       "\n",
       "   bl_chromatin  n_nucleoli  mitoses  class  \n",
       "0             3           1        1      2  \n",
       "1             3           2        1      2  \n",
       "2             3           1        1      2  \n",
       "3             3           7        1      2  \n",
       "4             3           1        1      2  "
      ]
     },
     "execution_count": 2,
     "metadata": {},
     "output_type": "execute_result"
    }
   ],
   "source": [
    "cancer = pd.read_csv('kanker.data')\n",
    "del cancer['id_number']\n",
    "cancer.head()"
   ]
  },
  {
   "cell_type": "markdown",
   "metadata": {},
   "source": [
    "### Details about data"
   ]
  },
  {
   "cell_type": "code",
   "execution_count": 3,
   "metadata": {},
   "outputs": [
    {
     "name": "stdout",
     "output_type": "stream",
     "text": [
      "Rows:  699\n",
      "Columns:  10\n"
     ]
    }
   ],
   "source": [
    "rows, columns = cancer.shape\n",
    "print(\"Rows: \", rows)\n",
    "print(\"Columns: \", columns)"
   ]
  },
  {
   "cell_type": "code",
   "execution_count": 4,
   "metadata": {},
   "outputs": [
    {
     "data": {
      "text/html": [
       "<div>\n",
       "<style scoped>\n",
       "    .dataframe tbody tr th:only-of-type {\n",
       "        vertical-align: middle;\n",
       "    }\n",
       "\n",
       "    .dataframe tbody tr th {\n",
       "        vertical-align: top;\n",
       "    }\n",
       "\n",
       "    .dataframe thead th {\n",
       "        text-align: right;\n",
       "    }\n",
       "</style>\n",
       "<table border=\"1\" class=\"dataframe\">\n",
       "  <thead>\n",
       "    <tr style=\"text-align: right;\">\n",
       "      <th></th>\n",
       "      <th>clump</th>\n",
       "      <th>u_cellsize</th>\n",
       "      <th>u_cellshape</th>\n",
       "      <th>adhesion</th>\n",
       "      <th>se_cellsize</th>\n",
       "      <th>bl_chromatin</th>\n",
       "      <th>n_nucleoli</th>\n",
       "      <th>mitoses</th>\n",
       "      <th>class</th>\n",
       "    </tr>\n",
       "  </thead>\n",
       "  <tbody>\n",
       "    <tr>\n",
       "      <th>count</th>\n",
       "      <td>699.000000</td>\n",
       "      <td>699.000000</td>\n",
       "      <td>699.000000</td>\n",
       "      <td>699.000000</td>\n",
       "      <td>699.000000</td>\n",
       "      <td>699.000000</td>\n",
       "      <td>699.000000</td>\n",
       "      <td>699.000000</td>\n",
       "      <td>699.000000</td>\n",
       "    </tr>\n",
       "    <tr>\n",
       "      <th>mean</th>\n",
       "      <td>4.417740</td>\n",
       "      <td>3.134478</td>\n",
       "      <td>3.207439</td>\n",
       "      <td>2.806867</td>\n",
       "      <td>3.216023</td>\n",
       "      <td>3.437768</td>\n",
       "      <td>2.866953</td>\n",
       "      <td>1.589413</td>\n",
       "      <td>2.689557</td>\n",
       "    </tr>\n",
       "    <tr>\n",
       "      <th>std</th>\n",
       "      <td>2.815741</td>\n",
       "      <td>3.051459</td>\n",
       "      <td>2.971913</td>\n",
       "      <td>2.855379</td>\n",
       "      <td>2.214300</td>\n",
       "      <td>2.438364</td>\n",
       "      <td>3.053634</td>\n",
       "      <td>1.715078</td>\n",
       "      <td>0.951273</td>\n",
       "    </tr>\n",
       "    <tr>\n",
       "      <th>min</th>\n",
       "      <td>1.000000</td>\n",
       "      <td>1.000000</td>\n",
       "      <td>1.000000</td>\n",
       "      <td>1.000000</td>\n",
       "      <td>1.000000</td>\n",
       "      <td>1.000000</td>\n",
       "      <td>1.000000</td>\n",
       "      <td>1.000000</td>\n",
       "      <td>2.000000</td>\n",
       "    </tr>\n",
       "    <tr>\n",
       "      <th>25%</th>\n",
       "      <td>2.000000</td>\n",
       "      <td>1.000000</td>\n",
       "      <td>1.000000</td>\n",
       "      <td>1.000000</td>\n",
       "      <td>2.000000</td>\n",
       "      <td>2.000000</td>\n",
       "      <td>1.000000</td>\n",
       "      <td>1.000000</td>\n",
       "      <td>2.000000</td>\n",
       "    </tr>\n",
       "    <tr>\n",
       "      <th>50%</th>\n",
       "      <td>4.000000</td>\n",
       "      <td>1.000000</td>\n",
       "      <td>1.000000</td>\n",
       "      <td>1.000000</td>\n",
       "      <td>2.000000</td>\n",
       "      <td>3.000000</td>\n",
       "      <td>1.000000</td>\n",
       "      <td>1.000000</td>\n",
       "      <td>2.000000</td>\n",
       "    </tr>\n",
       "    <tr>\n",
       "      <th>75%</th>\n",
       "      <td>6.000000</td>\n",
       "      <td>5.000000</td>\n",
       "      <td>5.000000</td>\n",
       "      <td>4.000000</td>\n",
       "      <td>4.000000</td>\n",
       "      <td>5.000000</td>\n",
       "      <td>4.000000</td>\n",
       "      <td>1.000000</td>\n",
       "      <td>4.000000</td>\n",
       "    </tr>\n",
       "    <tr>\n",
       "      <th>max</th>\n",
       "      <td>10.000000</td>\n",
       "      <td>10.000000</td>\n",
       "      <td>10.000000</td>\n",
       "      <td>10.000000</td>\n",
       "      <td>10.000000</td>\n",
       "      <td>10.000000</td>\n",
       "      <td>10.000000</td>\n",
       "      <td>10.000000</td>\n",
       "      <td>4.000000</td>\n",
       "    </tr>\n",
       "  </tbody>\n",
       "</table>\n",
       "</div>"
      ],
      "text/plain": [
       "            clump  u_cellsize  u_cellshape    adhesion  se_cellsize  \\\n",
       "count  699.000000  699.000000   699.000000  699.000000   699.000000   \n",
       "mean     4.417740    3.134478     3.207439    2.806867     3.216023   \n",
       "std      2.815741    3.051459     2.971913    2.855379     2.214300   \n",
       "min      1.000000    1.000000     1.000000    1.000000     1.000000   \n",
       "25%      2.000000    1.000000     1.000000    1.000000     2.000000   \n",
       "50%      4.000000    1.000000     1.000000    1.000000     2.000000   \n",
       "75%      6.000000    5.000000     5.000000    4.000000     4.000000   \n",
       "max     10.000000   10.000000    10.000000   10.000000    10.000000   \n",
       "\n",
       "       bl_chromatin  n_nucleoli     mitoses       class  \n",
       "count    699.000000  699.000000  699.000000  699.000000  \n",
       "mean       3.437768    2.866953    1.589413    2.689557  \n",
       "std        2.438364    3.053634    1.715078    0.951273  \n",
       "min        1.000000    1.000000    1.000000    2.000000  \n",
       "25%        2.000000    1.000000    1.000000    2.000000  \n",
       "50%        3.000000    1.000000    1.000000    2.000000  \n",
       "75%        5.000000    4.000000    1.000000    4.000000  \n",
       "max       10.000000   10.000000   10.000000    4.000000  "
      ]
     },
     "execution_count": 4,
     "metadata": {},
     "output_type": "execute_result"
    }
   ],
   "source": [
    "cancer.describe()"
   ]
  },
  {
   "cell_type": "markdown",
   "metadata": {},
   "source": [
    "### Show how many data for each class\n",
    "2 for Benign, 4 for Malignant"
   ]
  },
  {
   "cell_type": "code",
   "execution_count": 5,
   "metadata": {},
   "outputs": [
    {
     "data": {
      "text/plain": [
       "2    458\n",
       "4    241\n",
       "Name: class, dtype: int64"
      ]
     },
     "execution_count": 5,
     "metadata": {},
     "output_type": "execute_result"
    },
    {
     "data": {
      "image/png": "[encoded data removed]",
      "text/plain": [
       "<Figure size 360x504 with 1 Axes>"
      ]
     },
     "metadata": {
      "needs_background": "light"
     },
     "output_type": "display_data"
    }
   ],
   "source": [
    "cancer['class'].value_counts().plot(kind='bar', figsize=(5,7))\n",
    "cancer['class'].value_counts()"
   ]
  },
  {
   "cell_type": "markdown",
   "metadata": {},
   "source": [
    "### Frequency for each data"
   ]
  },
  {
   "cell_type": "markdown",
   "metadata": {},
   "source": [
    "###Clump Frequency"
   ]
  },
  {
   "cell_type": "code",
   "execution_count": 6,
   "metadata": {
    "scrolled": false
   },
   "outputs": [
    {
     "data": {
      "text/plain": [
       "<AxesSubplot:>"
      ]
     },
     "execution_count": 6,
     "metadata": {},
     "output_type": "execute_result"
    },
    {
     "data": {
      "image/png": "[encoded data removed]",
      "text/plain": [
       "<Figure size 1008x432 with 1 Axes>"
      ]
     },
     "metadata": {
      "needs_background": "light"
     },
     "output_type": "display_data"
    }
   ],
   "source": [
    "cancer['clump'].value_counts().plot(kind='bar', figsize=(14,6))"
   ]
  },
  {
   "cell_type": "code",
   "execution_count": 7,
   "metadata": {},
   "outputs": [
    {
     "data": {
      "text/plain": [
       "<AxesSubplot:>"
      ]
     },
     "execution_count": 7,
     "metadata": {},
     "output_type": "execute_result"
    },
    {
     "data": {
      "image/png": "[encoded data removed]",
      "text/plain": [
       "<Figure size 1008x432 with 1 Axes>"
      ]
     },
     "metadata": {
      "needs_background": "light"
     },
     "output_type": "display_data"
    }
   ],
   "source": [
    "cancer['u_cellsize'].value_counts().plot(kind='bar', figsize=(14,6))"
   ]
  },
  {
   "cell_type": "code",
   "execution_count": 8,
   "metadata": {},
   "outputs": [
    {
     "data": {
      "text/plain": [
       "<AxesSubplot:>"
      ]
     },
     "execution_count": 8,
     "metadata": {},
     "output_type": "execute_result"
    },
    {
     "data": {
      "image/png": "[encoded data removed]",
      "text/plain": [
       "<Figure size 1008x432 with 1 Axes>"
      ]
     },
     "metadata": {
      "needs_background": "light"
     },
     "output_type": "display_data"
    }
   ],
   "source": [
    "cancer['u_cellshape'].value_counts().plot(kind='bar', figsize=(14,6))"
   ]
  },
  {
   "cell_type": "code",
   "execution_count": 9,
   "metadata": {},
   "outputs": [
    {
     "data": {
      "text/plain": [
       "<AxesSubplot:>"
      ]
     },
     "execution_count": 9,
     "metadata": {},
     "output_type": "execute_result"
    },
    {
     "data": {
      "image/png": "[encoded data removed]",
      "text/plain": [
       "<Figure size 1008x432 with 1 Axes>"
      ]
     },
     "metadata": {
      "needs_background": "light"
     },
     "output_type": "display_data"
    }
   ],
   "source": [
    "cancer['adhesion'].value_counts().plot(kind='bar', figsize=(14,6))"
   ]
  },
  {
   "cell_type": "code",
   "execution_count": 10,
   "metadata": {},
   "outputs": [
    {
     "data": {
      "text/plain": [
       "<AxesSubplot:>"
      ]
     },
     "execution_count": 10,
     "metadata": {},
     "output_type": "execute_result"
    },
    {
     "data": {
      "image/png": "[encoded data removed]",
      "text/plain": [
       "<Figure size 1008x432 with 1 Axes>"
      ]
     },
     "metadata": {
      "needs_background": "light"
     },
     "output_type": "display_data"
    }
   ],
   "source": [
    "cancer['se_cellsize'].value_counts().plot(kind='bar', figsize=(14,6))"
   ]
  },
  {
   "cell_type": "code",
   "execution_count": 11,
   "metadata": {},
   "outputs": [
    {
     "data": {
      "text/plain": [
       "<AxesSubplot:>"
      ]
     },
     "execution_count": 11,
     "metadata": {},
     "output_type": "execute_result"
    },
    {
     "data": {
      "image/png": "[encoded data removed]",
      "text/plain": [
       "<Figure size 1008x432 with 1 Axes>"
      ]
     },
     "metadata": {
      "needs_background": "light"
     },
     "output_type": "display_data"
    }
   ],
   "source": [
    "cancer['bl_chromatin'].value_counts().plot(kind='bar', figsize=(14,6))"
   ]
  },
  {
   "cell_type": "code",
   "execution_count": 12,
   "metadata": {},
   "outputs": [
    {
     "data": {
      "text/plain": [
       "<AxesSubplot:>"
      ]
     },
     "execution_count": 12,
     "metadata": {},
     "output_type": "execute_result"
    },
    {
     "data": {
      "image/png": "[encoded data removed]",
      "text/plain": [
       "<Figure size 1008x432 with 1 Axes>"
      ]
     },
     "metadata": {
      "needs_background": "light"
     },
     "output_type": "display_data"
    }
   ],
   "source": [
    "cancer['n_nucleoli'].value_counts().plot(kind='bar', figsize=(14,6))"
   ]
  },
  {
   "cell_type": "code",
   "execution_count": 13,
   "metadata": {},
   "outputs": [
    {
     "data": {
      "text/plain": [
       "<AxesSubplot:>"
      ]
     },
     "execution_count": 13,
     "metadata": {},
     "output_type": "execute_result"
    },
    {
     "data": {
      "image/png": "[encoded data removed]",
      "text/plain": [
       "<Figure size 1008x432 with 1 Axes>"
      ]
     },
     "metadata": {
      "needs_background": "light"
     },
     "output_type": "display_data"
    }
   ],
   "source": [
    "cancer['mitoses'].value_counts().plot(kind='bar', figsize=(14,6))"
   ]
  },
  {
   "cell_type": "code",
   "execution_count": 14,
   "metadata": {
    "scrolled": false
   },
   "outputs": [
    {
     "data": {
      "text/plain": [
       "<AxesSubplot:>"
      ]
     },
     "execution_count": 14,
     "metadata": {},
     "output_type": "execute_result"
    },
    {
     "data": {
      "image/png": "[encoded data removed]",
      "text/plain": [
       "<Figure size 1008x432 with 1 Axes>"
      ]
     },
     "metadata": {
      "needs_background": "light"
     },
     "output_type": "display_data"
    }
   ],
   "source": [
    "cancer['br_nuclei'].value_counts().plot(kind='bar', figsize=(14,6))"
   ]
  },
  {
   "cell_type": "markdown",
   "metadata": {},
   "source": [
    "### Checking for each column if there's any null value"
   ]
  },
  {
   "cell_type": "code",
   "execution_count": 15,
   "metadata": {
    "scrolled": true
   },
   "outputs": [
    {
     "data": {
      "text/plain": [
       "clump           0\n",
       "u_cellsize      0\n",
       "u_cellshape     0\n",
       "adhesion        0\n",
       "se_cellsize     0\n",
       "br_nuclei       0\n",
       "bl_chromatin    0\n",
       "n_nucleoli      0\n",
       "mitoses         0\n",
       "class           0\n",
       "dtype: int64"
      ]
     },
     "execution_count": 15,
     "metadata": {},
     "output_type": "execute_result"
    }
   ],
   "source": [
    "cancer.isnull().sum()\n",
    "cancer.isna().sum()"
   ]
  },
  {
   "cell_type": "code",
   "execution_count": 16,
   "metadata": {},
   "outputs": [
    {
     "name": "stdout",
     "output_type": "stream",
     "text": [
      "<class 'pandas.core.frame.DataFrame'>\n",
      "RangeIndex: 699 entries, 0 to 698\n",
      "Data columns (total 10 columns):\n",
      " #   Column        Non-Null Count  Dtype \n",
      "---  ------        --------------  ----- \n",
      " 0   clump         699 non-null    int64 \n",
      " 1   u_cellsize    699 non-null    int64 \n",
      " 2   u_cellshape   699 non-null    int64 \n",
      " 3   adhesion      699 non-null    int64 \n",
      " 4   se_cellsize   699 non-null    int64 \n",
      " 5   br_nuclei     699 non-null    object\n",
      " 6   bl_chromatin  699 non-null    int64 \n",
      " 7   n_nucleoli    699 non-null    int64 \n",
      " 8   mitoses       699 non-null    int64 \n",
      " 9   class         699 non-null    int64 \n",
      "dtypes: int64(9), object(1)\n",
      "memory usage: 54.7+ KB\n"
     ]
    }
   ],
   "source": [
    "cancer.info()"
   ]
  },
  {
   "cell_type": "markdown",
   "metadata": {},
   "source": [
    "### Transform all values into numerical values"
   ]
  },
  {
   "cell_type": "code",
   "execution_count": 17,
   "metadata": {},
   "outputs": [
    {
     "name": "stdout",
     "output_type": "stream",
     "text": [
      "clump_size <class 'numpy.ndarray'>\n",
      "u_cellsize <class 'numpy.ndarray'>\n",
      "u_cellshape <class 'numpy.ndarray'>\n",
      "adhesion <class 'numpy.ndarray'>\n",
      "se_cellsize <class 'numpy.ndarray'>\n",
      "br_nuclei <class 'numpy.ndarray'>\n",
      "bl_chromatin <class 'numpy.ndarray'>\n",
      "n_nucleoli <class 'numpy.ndarray'>\n",
      "mitoses <class 'numpy.ndarray'>\n",
      "class <class 'numpy.ndarray'>\n"
     ]
    }
   ],
   "source": [
    "from sklearn.preprocessing import LabelEncoder\n",
    "\n",
    "le = LabelEncoder()\n",
    "clump_size = le.fit_transform(list(cancer[\"clump\"]))\n",
    "u_cellsize = le.fit_transform(list(cancer[\"u_cellsize\"]))\n",
    "u_cellshape = le.fit_transform(list(cancer[\"u_cellshape\"]))\n",
    "adhesion = le.fit_transform(list(cancer[\"adhesion\"]))\n",
    "se_cellsize = le.fit_transform(list(cancer[\"se_cellsize\"]))\n",
    "br_nuclei = le.fit_transform(list(cancer[\"br_nuclei\"]))\n",
    "bl_chromatin = le.fit_transform(list(cancer[\"bl_chromatin\"]))\n",
    "n_nucleoli = le.fit_transform(list(cancer[\"n_nucleoli\"]))\n",
    "mitoses = le.fit_transform(list(cancer[\"mitoses\"]))\n",
    "cls = le.fit_transform(list(cancer[\"class\"]))\n",
    "\n",
    "print('clump_size', type(clump_size))\n",
    "print('u_cellsize', type(u_cellsize))\n",
    "print('u_cellshape', type(u_cellshape))\n",
    "print('adhesion', type(adhesion))\n",
    "print('se_cellsize', type(se_cellsize))\n",
    "print('br_nuclei', type(br_nuclei))\n",
    "print('bl_chromatin', type(bl_chromatin))\n",
    "print('n_nucleoli', type(n_nucleoli))\n",
    "print('mitoses', type(mitoses))\n",
    "print('class', type(cls))"
   ]
  },
  {
   "cell_type": "code",
   "execution_count": 18,
   "metadata": {},
   "outputs": [
    {
     "data": {
      "text/html": [
       "<div>\n",
       "<style scoped>\n",
       "    .dataframe tbody tr th:only-of-type {\n",
       "        vertical-align: middle;\n",
       "    }\n",
       "\n",
       "    .dataframe tbody tr th {\n",
       "        vertical-align: top;\n",
       "    }\n",
       "\n",
       "    .dataframe thead th {\n",
       "        text-align: right;\n",
       "    }\n",
       "</style>\n",
       "<table border=\"1\" class=\"dataframe\">\n",
       "  <thead>\n",
       "    <tr style=\"text-align: right;\">\n",
       "      <th></th>\n",
       "      <th>clump</th>\n",
       "      <th>u_cellsize</th>\n",
       "      <th>u_cellshape</th>\n",
       "      <th>adhesion</th>\n",
       "      <th>se_cellsize</th>\n",
       "      <th>bl_chromatin</th>\n",
       "      <th>n_nucleoli</th>\n",
       "      <th>mitoses</th>\n",
       "      <th>class</th>\n",
       "    </tr>\n",
       "  </thead>\n",
       "  <tbody>\n",
       "    <tr>\n",
       "      <th>clump</th>\n",
       "      <td>1.000000</td>\n",
       "      <td>0.644913</td>\n",
       "      <td>0.654589</td>\n",
       "      <td>0.486356</td>\n",
       "      <td>0.521816</td>\n",
       "      <td>0.558428</td>\n",
       "      <td>0.535835</td>\n",
       "      <td>0.350034</td>\n",
       "      <td>0.716001</td>\n",
       "    </tr>\n",
       "    <tr>\n",
       "      <th>u_cellsize</th>\n",
       "      <td>0.644913</td>\n",
       "      <td>1.000000</td>\n",
       "      <td>0.906882</td>\n",
       "      <td>0.705582</td>\n",
       "      <td>0.751799</td>\n",
       "      <td>0.755721</td>\n",
       "      <td>0.722865</td>\n",
       "      <td>0.458693</td>\n",
       "      <td>0.817904</td>\n",
       "    </tr>\n",
       "    <tr>\n",
       "      <th>u_cellshape</th>\n",
       "      <td>0.654589</td>\n",
       "      <td>0.906882</td>\n",
       "      <td>1.000000</td>\n",
       "      <td>0.683079</td>\n",
       "      <td>0.719668</td>\n",
       "      <td>0.735948</td>\n",
       "      <td>0.719446</td>\n",
       "      <td>0.438911</td>\n",
       "      <td>0.818934</td>\n",
       "    </tr>\n",
       "    <tr>\n",
       "      <th>adhesion</th>\n",
       "      <td>0.486356</td>\n",
       "      <td>0.705582</td>\n",
       "      <td>0.683079</td>\n",
       "      <td>1.000000</td>\n",
       "      <td>0.599599</td>\n",
       "      <td>0.666715</td>\n",
       "      <td>0.603352</td>\n",
       "      <td>0.417633</td>\n",
       "      <td>0.696800</td>\n",
       "    </tr>\n",
       "    <tr>\n",
       "      <th>se_cellsize</th>\n",
       "      <td>0.521816</td>\n",
       "      <td>0.751799</td>\n",
       "      <td>0.719668</td>\n",
       "      <td>0.599599</td>\n",
       "      <td>1.000000</td>\n",
       "      <td>0.616102</td>\n",
       "      <td>0.628881</td>\n",
       "      <td>0.479101</td>\n",
       "      <td>0.682785</td>\n",
       "    </tr>\n",
       "    <tr>\n",
       "      <th>bl_chromatin</th>\n",
       "      <td>0.558428</td>\n",
       "      <td>0.755721</td>\n",
       "      <td>0.735948</td>\n",
       "      <td>0.666715</td>\n",
       "      <td>0.616102</td>\n",
       "      <td>1.000000</td>\n",
       "      <td>0.665878</td>\n",
       "      <td>0.344169</td>\n",
       "      <td>0.756616</td>\n",
       "    </tr>\n",
       "    <tr>\n",
       "      <th>n_nucleoli</th>\n",
       "      <td>0.535835</td>\n",
       "      <td>0.722865</td>\n",
       "      <td>0.719446</td>\n",
       "      <td>0.603352</td>\n",
       "      <td>0.628881</td>\n",
       "      <td>0.665878</td>\n",
       "      <td>1.000000</td>\n",
       "      <td>0.428336</td>\n",
       "      <td>0.712244</td>\n",
       "    </tr>\n",
       "    <tr>\n",
       "      <th>mitoses</th>\n",
       "      <td>0.350034</td>\n",
       "      <td>0.458693</td>\n",
       "      <td>0.438911</td>\n",
       "      <td>0.417633</td>\n",
       "      <td>0.479101</td>\n",
       "      <td>0.344169</td>\n",
       "      <td>0.428336</td>\n",
       "      <td>1.000000</td>\n",
       "      <td>0.423170</td>\n",
       "    </tr>\n",
       "    <tr>\n",
       "      <th>class</th>\n",
       "      <td>0.716001</td>\n",
       "      <td>0.817904</td>\n",
       "      <td>0.818934</td>\n",
       "      <td>0.696800</td>\n",
       "      <td>0.682785</td>\n",
       "      <td>0.756616</td>\n",
       "      <td>0.712244</td>\n",
       "      <td>0.423170</td>\n",
       "      <td>1.000000</td>\n",
       "    </tr>\n",
       "  </tbody>\n",
       "</table>\n",
       "</div>"
      ],
      "text/plain": [
       "                 clump  u_cellsize  u_cellshape  adhesion  se_cellsize  \\\n",
       "clump         1.000000    0.644913     0.654589  0.486356     0.521816   \n",
       "u_cellsize    0.644913    1.000000     0.906882  0.705582     0.751799   \n",
       "u_cellshape   0.654589    0.906882     1.000000  0.683079     0.719668   \n",
       "adhesion      0.486356    0.705582     0.683079  1.000000     0.599599   \n",
       "se_cellsize   0.521816    0.751799     0.719668  0.599599     1.000000   \n",
       "bl_chromatin  0.558428    0.755721     0.735948  0.666715     0.616102   \n",
       "n_nucleoli    0.535835    0.722865     0.719446  0.603352     0.628881   \n",
       "mitoses       0.350034    0.458693     0.438911  0.417633     0.479101   \n",
       "class         0.716001    0.817904     0.818934  0.696800     0.682785   \n",
       "\n",
       "              bl_chromatin  n_nucleoli   mitoses     class  \n",
       "clump             0.558428    0.535835  0.350034  0.716001  \n",
       "u_cellsize        0.755721    0.722865  0.458693  0.817904  \n",
       "u_cellshape       0.735948    0.719446  0.438911  0.818934  \n",
       "adhesion          0.666715    0.603352  0.417633  0.696800  \n",
       "se_cellsize       0.616102    0.628881  0.479101  0.682785  \n",
       "bl_chromatin      1.000000    0.665878  0.344169  0.756616  \n",
       "n_nucleoli        0.665878    1.000000  0.428336  0.712244  \n",
       "mitoses           0.344169    0.428336  1.000000  0.423170  \n",
       "class             0.756616    0.712244  0.423170  1.000000  "
      ]
     },
     "execution_count": 18,
     "metadata": {},
     "output_type": "execute_result"
    }
   ],
   "source": [
    "cancer.corr()"
   ]
  },
  {
   "cell_type": "markdown",
   "metadata": {},
   "source": [
    "### Start modelling the data"
   ]
  },
  {
   "cell_type": "code",
   "execution_count": 19,
   "metadata": {},
   "outputs": [],
   "source": [
    "from sklearn.model_selection import train_test_split\n",
    "\n",
    "X = list(zip(clump_size, u_cellsize, u_cellshape, adhesion, se_cellsize, br_nuclei, bl_chromatin, n_nucleoli,mitoses))\n",
    "Y = list(cls)\n",
    "\n",
    "X_train, X_test, Y_train, Y_test = train_test_split(X, Y, test_size = 0.2, stratify=Y)"
   ]
  },
  {
   "cell_type": "markdown",
   "metadata": {},
   "source": [
    "### Data Standarizations"
   ]
  },
  {
   "cell_type": "code",
   "execution_count": 20,
   "metadata": {
    "scrolled": true
   },
   "outputs": [
    {
     "name": "stdout",
     "output_type": "stream",
     "text": [
      "[[-0.5207752  -0.38829188 -0.74553945 ... -0.18589057 -0.61821331\n",
      "  -0.34766824]\n",
      " [ 1.991917    2.22683052  2.25510773 ...  2.65547584  2.36952077\n",
      "   3.5007782 ]\n",
      " [-1.23868726 -0.06140158 -0.74553945 ... -0.59180006 -0.28624286\n",
      "  -0.34766824]\n",
      " ...\n",
      " [-0.5207752  -0.71518218 -0.74553945 ... -0.99770954 -0.61821331\n",
      "  -0.34766824]\n",
      " [ 1.27400494  0.26548872  0.92148676 ...  0.22001892  0.04572759\n",
      "  -0.34766824]\n",
      " [ 1.991917   -0.06140158 -0.07872897 ...  1.43774738  0.04572759\n",
      "   0.93514724]]\n",
      "[[-0.5207752  -0.38829188 -0.41213421 ...  0.22001892 -0.28624286\n",
      "  -0.34766824]\n",
      " [ 1.991917    0.59237902  0.58808152 ...  1.43774738 -0.61821331\n",
      "  -0.34766824]\n",
      " [-1.23868726 -0.71518218 -0.74553945 ... -0.99770954 -0.61821331\n",
      "  -0.34766824]\n",
      " ...\n",
      " [-0.16181918  0.91926932  0.92148676 ...  1.43774738  1.37360941\n",
      "   0.93514724]\n",
      " [ 1.991917    2.22683052  2.25510773 ...  1.43774738  2.36952077\n",
      "   4.78359367]\n",
      " [ 0.55609288  2.22683052  2.25510773 ...  1.84365686  2.36952077\n",
      "   4.78359367]]\n"
     ]
    }
   ],
   "source": [
    "#Feature Scaling\n",
    "from sklearn.preprocessing import StandardScaler\n",
    "sc = StandardScaler()\n",
    "X_train = sc.fit_transform(X_train)\n",
    "X_test = sc.transform(X_test)\n",
    "\n",
    "\n",
    "print(X_train)\n",
    "print(X_test)"
   ]
  },
  {
   "cell_type": "code",
   "execution_count": 228,
   "metadata": {},
   "outputs": [
    {
     "name": "stdout",
     "output_type": "stream",
     "text": [
      "Data Uji\n",
      "\n",
      "\n",
      "  clump    u_cellsize    u_cellshape    adhesion    se_cellsize    br_nuclei    bl_chromatin    n_nucleoli    mitoses\n",
      "-------  ------------  -------------  ----------  -------------  -----------  --------------  ------------  ---------\n",
      "      1          0.33            0.2           0           0.22         0.33             0.4          0.22          1\n",
      "\n",
      "\n",
      "Data Latih\n",
      "\n",
      "\n",
      "   clump    u_cellsize    u_cellshape    adhesion    se_cellsize    br_nuclei    bl_chromatin    n_nucleoli    mitoses\n",
      "--------  ------------  -------------  ----------  -------------  -----------  --------------  ------------  ---------\n",
      "0.571429      0.111111       0.222222    0.333333            0       0.666667        0.222222      0.833333       0\n",
      "0.571429      0.333333       0.333333    0.444444            1       1               0.222222      0.166667       0\n",
      "1             0.666667       0.444444    1                   1       0.888889        0.444444      0.666667       0.75\n",
      "0.714286      0.777778       0.777778    0                   0.2     0.333333        0.222222      1              0\n",
      "0.428571      0              0           0.222222            0       0               0.222222      0              0\n",
      "1             1              1           0.777778            1       1               0.888889      1              0\n",
      "0             0              0           0                   0       1               0.222222      0              0\n",
      "0.142857      0              0.111111    0                   0       0               0.222222      0              0\n",
      "0.857143      0.333333       0.555556    0.333333            0.8     0               0.333333      0.333333       0\n",
      "0.428571      0.111111       0           0                   0       0               0.111111      0              0\n"
     ]
    }
   ],
   "source": [
    "from tabulate import tabulate\n",
    "\n",
    "train = [['clump', 'u_cellsize', 'u_cellshape', 'adhesion', 'se_cellsize', 'br_nuclei', 'bl_chromatin', 'n_nucleoli',\n",
    "        'mitoses'],\n",
    "       [1.00, 0.33, 0.20, 0.00, 0.22, 0.33, 0.40, 0.22, 1.00]]\n",
    "\n",
    "print('Data Uji')\n",
    "print('\\n')\n",
    "\n",
    "print(tabulate(train, headers='firstrow'))\n",
    "\n",
    "test = [['clump', 'u_cellsize', 'u_cellshape', 'adhesion', 'se_cellsize', 'br_nuclei', 'bl_chromatin', 'n_nucleoli',\n",
    "            'mitoses'],\n",
    "           [0.571428571, 0.111111111, 0.222222222, 0.333333333, 0, 0.666666667, 0.222222222, 0.833333333, 0],\n",
    "           [0.571428571, 0.333333333, 0.333333333, 0.444444444, 1, 1, 0.222222222, 0.166666667, 0],\n",
    "           [1, 0.666666667, 0.444444444, 1, 1, 0.888888889, 0.444444444, 0.666666667, 0.75],\n",
    "           [0.714285714, 0.777777778, 0.777777778, 0, 0.2, 0.333333333, 0.222222222, 1, 0],\n",
    "           [0.428571429, 0, 0, 0.222222222, 0, 0, 0.222222222, 0, 0],\n",
    "           [1, 1, 1, 0.777777778, 1, 1, 0.888888889, 1, 0],\n",
    "           [0, 0, 0, 0, 0, 1, 0.222222222, 0, 0],\n",
    "           [0.142857143, 0, 0.111111111, 0, 0, 0, 0.222222222, 0, 0],\n",
    "           [0.857142857, 0.333333333, 0.555555556, 0.333333333, 0.8, 0, 0.333333333, 0.333333333, 0],\n",
    "           [0.428571429, 0.111111111, 0, 0, 0, 0, 0.111111111, 0, 0]]\n",
    "print('\\n')\n",
    "print('Data Latih')\n",
    "print('\\n')\n",
    "print(tabulate(test, headers='firstrow'))"
   ]
  },
  {
   "cell_type": "code",
   "execution_count": 229,
   "metadata": {
    "scrolled": true
   },
   "outputs": [],
   "source": [
    "test = test[1:]\n",
    "train = train[1:]"
   ]
  },
  {
   "cell_type": "code",
   "execution_count": 239,
   "metadata": {},
   "outputs": [
    {
     "name": "stdout",
     "output_type": "stream",
     "text": [
      "+----+---------------+--------------------+\n",
      "|    |   Data Uji ke |   Jarak antar data |\n",
      "+====+===============+====================+\n",
      "|  0 |            10 |            1.7036  |\n",
      "+----+---------------+--------------------+\n",
      "|  1 |             9 |            1.72054 |\n",
      "+----+---------------+--------------------+\n",
      "|  2 |             5 |            1.76212 |\n",
      "+----+---------------+--------------------+\n",
      "|  3 |             1 |            1.91272 |\n",
      "+----+---------------+--------------------+\n",
      "|  4 |             8 |            2.0888  |\n",
      "+----+---------------+--------------------+\n",
      "|  5 |             4 |            2.25638 |\n",
      "+----+---------------+--------------------+\n",
      "|  6 |             3 |            2.35784 |\n",
      "+----+---------------+--------------------+\n",
      "|  7 |             2 |            2.49074 |\n",
      "+----+---------------+--------------------+\n",
      "|  8 |             7 |            2.7262  |\n",
      "+----+---------------+--------------------+\n",
      "|  9 |             6 |            4.59855 |\n",
      "+----+---------------+--------------------+\n"
     ]
    }
   ],
   "source": [
    "import math\n",
    "\n",
    "hasil = []\n",
    "col = 0\n",
    "\n",
    "for j in range(len(test)):\n",
    "    for k in range(len(test)):\n",
    "#         print(j,k)\n",
    "        col += (train[0][k] - test[j][k]) ** 2\n",
    "        if(k == 8):\n",
    "            break\n",
    "    \n",
    "    math.sqrt(col)\n",
    "    hasil.append(col)\n",
    "    col = 0\n",
    "\n",
    "hasil = list(enumerate(hasil, 1))\n",
    "ranking = sorted(hasil, key=lambda x:x[1])\n",
    "\n",
    "ranking.insert(0, (\"Data Uji ke\", \"Jarak antar data\"))\n",
    "print(tabulate(ranking, headers=\"firstrow\", showindex=True, tablefmt='grid'))"
   ]
  },
  {
   "cell_type": "markdown",
   "metadata": {},
   "source": [
    "### KNN Model"
   ]
  },
  {
   "cell_type": "code",
   "execution_count": 21,
   "metadata": {},
   "outputs": [],
   "source": [
    "from sklearn.neighbors import KNeighborsClassifier\n",
    "\n",
    "classifier = KNeighborsClassifier(n_neighbors = 5)\n",
    "classifier.fit(X_train, Y_train)\n",
    "\n",
    "Y_pred = classifier.predict(X_test)"
   ]
  },
  {
   "cell_type": "markdown",
   "metadata": {},
   "source": [
    "### Saving KNN model into pickle file"
   ]
  },
  {
   "cell_type": "code",
   "execution_count": 22,
   "metadata": {},
   "outputs": [],
   "source": [
    "with open(\"data/KNNModel.pickle\", \"wb\") as f:\n",
    "    pickle.dump(classifier, f)"
   ]
  },
  {
   "cell_type": "code",
   "execution_count": 23,
   "metadata": {},
   "outputs": [
    {
     "name": "stdout",
     "output_type": "stream",
     "text": [
      "Prediction:  2\n",
      "Actual:  2\n",
      "\n",
      "Prediction:  4\n",
      "Actual:  4\n",
      "\n",
      "Prediction:  2\n",
      "Actual:  2\n",
      "\n",
      "Prediction:  4\n",
      "Actual:  4\n",
      "\n",
      "Prediction:  2\n",
      "Actual:  2\n",
      "\n",
      "Prediction:  2\n",
      "Actual:  2\n",
      "\n",
      "Prediction:  4\n",
      "Actual:  4\n",
      "\n",
      "Prediction:  2\n",
      "Actual:  2\n",
      "\n",
      "Prediction:  2\n",
      "Actual:  2\n",
      "\n",
      "Prediction:  2\n",
      "Actual:  2\n",
      "\n",
      "Prediction:  2\n",
      "Actual:  2\n",
      "\n",
      "Prediction:  2\n",
      "Actual:  2\n",
      "\n",
      "Prediction:  4\n",
      "Actual:  2\n",
      "\n",
      "Prediction:  4\n",
      "Actual:  4\n",
      "\n",
      "Prediction:  2\n",
      "Actual:  2\n",
      "\n",
      "Prediction:  2\n",
      "Actual:  2\n",
      "\n",
      "Prediction:  2\n",
      "Actual:  2\n",
      "\n",
      "Prediction:  2\n",
      "Actual:  2\n",
      "\n",
      "Prediction:  2\n",
      "Actual:  2\n",
      "\n",
      "Prediction:  4\n",
      "Actual:  4\n",
      "\n",
      "Prediction:  2\n",
      "Actual:  2\n",
      "\n",
      "Prediction:  2\n",
      "Actual:  2\n",
      "\n",
      "Prediction:  2\n",
      "Actual:  2\n",
      "\n",
      "Prediction:  2\n",
      "Actual:  2\n",
      "\n",
      "Prediction:  4\n",
      "Actual:  4\n",
      "\n",
      "Prediction:  2\n",
      "Actual:  2\n",
      "\n",
      "Prediction:  2\n",
      "Actual:  2\n",
      "\n",
      "Prediction:  2\n",
      "Actual:  2\n",
      "\n",
      "Prediction:  4\n",
      "Actual:  4\n",
      "\n",
      "Prediction:  2\n",
      "Actual:  2\n",
      "\n",
      "Prediction:  2\n",
      "Actual:  2\n",
      "\n",
      "Prediction:  2\n",
      "Actual:  2\n",
      "\n",
      "Prediction:  2\n",
      "Actual:  2\n",
      "\n",
      "Prediction:  2\n",
      "Actual:  2\n",
      "\n",
      "Prediction:  4\n",
      "Actual:  4\n",
      "\n",
      "Prediction:  4\n",
      "Actual:  4\n",
      "\n",
      "Prediction:  2\n",
      "Actual:  2\n",
      "\n",
      "Prediction:  4\n",
      "Actual:  4\n",
      "\n",
      "Prediction:  2\n",
      "Actual:  2\n",
      "\n",
      "Prediction:  2\n",
      "Actual:  2\n",
      "\n",
      "Prediction:  4\n",
      "Actual:  4\n",
      "\n",
      "Prediction:  4\n",
      "Actual:  2\n",
      "\n",
      "Prediction:  2\n",
      "Actual:  2\n",
      "\n",
      "Prediction:  2\n",
      "Actual:  2\n",
      "\n",
      "Prediction:  2\n",
      "Actual:  2\n",
      "\n",
      "Prediction:  2\n",
      "Actual:  2\n",
      "\n",
      "Prediction:  4\n",
      "Actual:  4\n",
      "\n",
      "Prediction:  4\n",
      "Actual:  4\n",
      "\n",
      "Prediction:  2\n",
      "Actual:  2\n",
      "\n",
      "Prediction:  2\n",
      "Actual:  2\n",
      "\n",
      "Prediction:  4\n",
      "Actual:  2\n",
      "\n",
      "Prediction:  2\n",
      "Actual:  2\n",
      "\n",
      "Prediction:  2\n",
      "Actual:  2\n",
      "\n",
      "Prediction:  2\n",
      "Actual:  2\n",
      "\n",
      "Prediction:  2\n",
      "Actual:  2\n",
      "\n",
      "Prediction:  2\n",
      "Actual:  2\n",
      "\n",
      "Prediction:  4\n",
      "Actual:  4\n",
      "\n",
      "Prediction:  4\n",
      "Actual:  4\n",
      "\n",
      "Prediction:  2\n",
      "Actual:  2\n",
      "\n",
      "Prediction:  4\n",
      "Actual:  4\n",
      "\n",
      "Prediction:  4\n",
      "Actual:  4\n",
      "\n",
      "Prediction:  2\n",
      "Actual:  2\n",
      "\n",
      "Prediction:  2\n",
      "Actual:  2\n",
      "\n",
      "Prediction:  2\n",
      "Actual:  2\n",
      "\n",
      "Prediction:  4\n",
      "Actual:  4\n",
      "\n",
      "Prediction:  2\n",
      "Actual:  2\n",
      "\n",
      "Prediction:  4\n",
      "Actual:  4\n",
      "\n",
      "Prediction:  2\n",
      "Actual:  2\n",
      "\n",
      "Prediction:  2\n",
      "Actual:  2\n",
      "\n",
      "Prediction:  2\n",
      "Actual:  2\n",
      "\n",
      "Prediction:  2\n",
      "Actual:  2\n",
      "\n",
      "Prediction:  4\n",
      "Actual:  4\n",
      "\n",
      "Prediction:  4\n",
      "Actual:  4\n",
      "\n",
      "Prediction:  2\n",
      "Actual:  2\n",
      "\n",
      "Prediction:  2\n",
      "Actual:  2\n",
      "\n",
      "Prediction:  2\n",
      "Actual:  2\n",
      "\n",
      "Prediction:  2\n",
      "Actual:  2\n",
      "\n",
      "Prediction:  2\n",
      "Actual:  2\n",
      "\n",
      "Prediction:  2\n",
      "Actual:  2\n",
      "\n",
      "Prediction:  2\n",
      "Actual:  2\n",
      "\n",
      "Prediction:  2\n",
      "Actual:  2\n",
      "\n",
      "Prediction:  2\n",
      "Actual:  2\n",
      "\n",
      "Prediction:  2\n",
      "Actual:  2\n",
      "\n",
      "Prediction:  2\n",
      "Actual:  2\n",
      "\n",
      "Prediction:  4\n",
      "Actual:  4\n",
      "\n",
      "Prediction:  4\n",
      "Actual:  4\n",
      "\n",
      "Prediction:  2\n",
      "Actual:  2\n",
      "\n",
      "Prediction:  2\n",
      "Actual:  2\n",
      "\n",
      "Prediction:  2\n",
      "Actual:  2\n",
      "\n",
      "Prediction:  4\n",
      "Actual:  4\n",
      "\n",
      "Prediction:  2\n",
      "Actual:  2\n",
      "\n",
      "Prediction:  2\n",
      "Actual:  2\n",
      "\n",
      "Prediction:  2\n",
      "Actual:  2\n",
      "\n",
      "Prediction:  4\n",
      "Actual:  4\n",
      "\n",
      "Prediction:  2\n",
      "Actual:  2\n",
      "\n",
      "Prediction:  4\n",
      "Actual:  4\n",
      "\n",
      "Prediction:  2\n",
      "Actual:  2\n",
      "\n",
      "Prediction:  4\n",
      "Actual:  4\n",
      "\n",
      "Prediction:  2\n",
      "Actual:  2\n",
      "\n",
      "Prediction:  4\n",
      "Actual:  4\n",
      "\n",
      "Prediction:  2\n",
      "Actual:  2\n",
      "\n",
      "Prediction:  4\n",
      "Actual:  4\n",
      "\n",
      "Prediction:  4\n",
      "Actual:  4\n",
      "\n",
      "Prediction:  2\n",
      "Actual:  2\n",
      "\n",
      "Prediction:  2\n",
      "Actual:  4\n",
      "\n",
      "Prediction:  4\n",
      "Actual:  4\n",
      "\n",
      "Prediction:  4\n",
      "Actual:  4\n",
      "\n",
      "Prediction:  4\n",
      "Actual:  4\n",
      "\n",
      "Prediction:  2\n",
      "Actual:  4\n",
      "\n",
      "Prediction:  2\n",
      "Actual:  2\n",
      "\n",
      "Prediction:  4\n",
      "Actual:  4\n",
      "\n",
      "Prediction:  2\n",
      "Actual:  2\n",
      "\n",
      "Prediction:  2\n",
      "Actual:  2\n",
      "\n",
      "Prediction:  4\n",
      "Actual:  4\n",
      "\n",
      "Prediction:  2\n",
      "Actual:  2\n",
      "\n",
      "Prediction:  4\n",
      "Actual:  4\n",
      "\n",
      "Prediction:  2\n",
      "Actual:  2\n",
      "\n",
      "Prediction:  4\n",
      "Actual:  4\n",
      "\n",
      "Prediction:  2\n",
      "Actual:  2\n",
      "\n",
      "Prediction:  2\n",
      "Actual:  2\n",
      "\n",
      "Prediction:  4\n",
      "Actual:  4\n",
      "\n",
      "Prediction:  4\n",
      "Actual:  4\n",
      "\n",
      "Prediction:  4\n",
      "Actual:  4\n",
      "\n",
      "Prediction:  2\n",
      "Actual:  2\n",
      "\n",
      "Prediction:  4\n",
      "Actual:  4\n",
      "\n",
      "Prediction:  2\n",
      "Actual:  2\n",
      "\n",
      "Prediction:  2\n",
      "Actual:  4\n",
      "\n",
      "Prediction:  2\n",
      "Actual:  2\n",
      "\n",
      "Prediction:  2\n",
      "Actual:  2\n",
      "\n",
      "Prediction:  2\n",
      "Actual:  2\n",
      "\n",
      "Prediction:  2\n",
      "Actual:  2\n",
      "\n",
      "Prediction:  2\n",
      "Actual:  2\n",
      "\n",
      "Prediction:  2\n",
      "Actual:  2\n",
      "\n",
      "Prediction:  2\n",
      "Actual:  2\n",
      "\n",
      "Prediction:  2\n",
      "Actual:  2\n",
      "\n",
      "Prediction:  2\n",
      "Actual:  2\n",
      "\n",
      "Prediction:  4\n",
      "Actual:  4\n",
      "\n",
      "Prediction:  4\n",
      "Actual:  4\n",
      "\n",
      "Prediction:  4\n",
      "Actual:  4\n",
      "\n",
      "Prediction:  4\n",
      "Actual:  4\n",
      "\n"
     ]
    }
   ],
   "source": [
    "predictions = classifier.predict(X_test)\n",
    "names = [\"2\", \"4\"]\n",
    "\n",
    "for x in range(len(predictions)):\n",
    "    print(\"Prediction: \", names[predictions[x]])\n",
    "    print(\"Actual: \", names[Y_test[x]])\n",
    "    print(\"\")"
   ]
  },
  {
   "cell_type": "markdown",
   "metadata": {},
   "source": [
    "### Confusion Matrix for KNN"
   ]
  },
  {
   "cell_type": "code",
   "execution_count": 24,
   "metadata": {},
   "outputs": [
    {
     "data": {
      "image/png": "[encoded data removed]",
      "text/plain": [
       "<Figure size 360x360 with 1 Axes>"
      ]
     },
     "metadata": {
      "needs_background": "light"
     },
     "output_type": "display_data"
    }
   ],
   "source": [
    "from sklearn.metrics import confusion_matrix\n",
    "\n",
    "cm = confusion_matrix(Y_test, Y_pred)\n",
    "\n",
    "fig, ax = plt.subplots(figsize=(5, 5))\n",
    "ax.matshow(cm, cmap=plt.cm.Blues, alpha=0.3)\n",
    "for i in range(cm.shape[0]):\n",
    "    for j in range(cm.shape[1]):\n",
    "        ax.text(x=j, y=i, s=cm[i, j], va='center', ha='center', size='xx-large')\n",
    "\n",
    "plt.xlabel('Predictions', fontsize=18)\n",
    "plt.ylabel('Actuals', fontsize=18)\n",
    "plt.title('Confusion Matrix', fontsize=18)\n",
    "plt.show()"
   ]
  },
  {
   "cell_type": "markdown",
   "metadata": {},
   "source": [
    "### F1 Score for KNN"
   ]
  },
  {
   "cell_type": "code",
   "execution_count": 25,
   "metadata": {},
   "outputs": [
    {
     "name": "stdout",
     "output_type": "stream",
     "text": [
      "Precision: 0.938\n",
      "Recall: 0.938\n",
      "Accuracy: 0.957\n",
      "F1 Score: 0.938\n"
     ]
    }
   ],
   "source": [
    "from sklearn.metrics import precision_score, recall_score, f1_score, accuracy_score\n",
    "\n",
    "print(\"Precision: %.3f\" % precision_score(Y_test, Y_pred))\n",
    "print(\"Recall: %.3f\" % recall_score(Y_test, Y_pred))\n",
    "print(\"Accuracy: %.3f\" % accuracy_score(Y_test, Y_pred))\n",
    "print(\"F1 Score: %.3f\" % f1_score(Y_test, Y_pred))\n",
    "\n",
    "KNN_ps = precision_score(Y_test, Y_pred)\n",
    "KNN_rs = recall_score(Y_test, Y_pred)\n",
    "KNN_as = accuracy_score(Y_test, Y_pred)\n",
    "KNN_f1 = f1_score(Y_test, Y_pred)"
   ]
  },
  {
   "cell_type": "code",
   "execution_count": 247,
   "metadata": {},
   "outputs": [],
   "source": [
    "hasilsvm = []\n",
    "actual = []\n",
    "train = [\n",
    "        [0.11, 0.22, 1],\n",
    "        [0.33, 0.33, -1],\n",
    "        [0.67, 0.44, 1],\n",
    "        [0.78, 0.78, -1],\n",
    "        [0.00, 0.00, -1],\n",
    "        [1.00, 1.00, 1],\n",
    "        [0.00, 0.00, -1],\n",
    "        [0.00, 0.11, -1],\n",
    "        [0.33, 0.56, 1],\n",
    "        [0.11, 0.00, -1]]\n",
    "\n",
    "for i in range(len(train)):\n",
    "    colsvm = train[i][0] + train[i][1] - 1\n",
    "    if(colsvm < 0):\n",
    "        colsvm = -1\n",
    "    else:\n",
    "        colsvm = 1\n",
    "        \n",
    "    hasilsvm.append(colsvm)\n",
    "    \n",
    "    actual.append(train[i][2])\n",
    "\n",
    "lists = list(zip(hasilsvm,actual))"
   ]
  },
  {
   "cell_type": "code",
   "execution_count": 248,
   "metadata": {},
   "outputs": [],
   "source": [
    "lists.insert(0, (\"Predicitions\", \"Actuals\"))"
   ]
  },
  {
   "cell_type": "code",
   "execution_count": 250,
   "metadata": {},
   "outputs": [
    {
     "name": "stdout",
     "output_type": "stream",
     "text": [
      "+----+----------------+-----------+\n",
      "|    |   Predicitions |   Actuals |\n",
      "+====+================+===========+\n",
      "|  0 |             -1 |         1 |\n",
      "+----+----------------+-----------+\n",
      "|  1 |             -1 |        -1 |\n",
      "+----+----------------+-----------+\n",
      "|  2 |              1 |         1 |\n",
      "+----+----------------+-----------+\n",
      "|  3 |              1 |        -1 |\n",
      "+----+----------------+-----------+\n",
      "|  4 |             -1 |        -1 |\n",
      "+----+----------------+-----------+\n",
      "|  5 |              1 |         1 |\n",
      "+----+----------------+-----------+\n",
      "|  6 |             -1 |        -1 |\n",
      "+----+----------------+-----------+\n",
      "|  7 |             -1 |        -1 |\n",
      "+----+----------------+-----------+\n",
      "|  8 |             -1 |         1 |\n",
      "+----+----------------+-----------+\n",
      "|  9 |             -1 |        -1 |\n",
      "+----+----------------+-----------+\n"
     ]
    }
   ],
   "source": [
    "print(tabulate(lists, headers=\"firstrow\", showindex=True, tablefmt=\"grid\"))"
   ]
  },
  {
   "cell_type": "code",
   "execution_count": 222,
   "metadata": {},
   "outputs": [],
   "source": [
    "lists = lists[1:]"
   ]
  },
  {
   "cell_type": "markdown",
   "metadata": {},
   "source": [
    "### SVM Model"
   ]
  },
  {
   "cell_type": "code",
   "execution_count": 26,
   "metadata": {},
   "outputs": [],
   "source": [
    "from sklearn.svm import SVC\n",
    "\n",
    "classifier = SVC(kernel = 'poly', degree=8)\n",
    "classifier.fit(X_train, Y_train)\n",
    "\n",
    "Y_pred = classifier.predict(X_test)"
   ]
  },
  {
   "cell_type": "markdown",
   "metadata": {},
   "source": [
    "### Saving SVM model into pickle file"
   ]
  },
  {
   "cell_type": "code",
   "execution_count": 27,
   "metadata": {},
   "outputs": [],
   "source": [
    "with open(\"data/SVMModel.pickle\", \"wb\") as f:\n",
    "    pickle.dump(classifier, f)"
   ]
  },
  {
   "cell_type": "code",
   "execution_count": 28,
   "metadata": {},
   "outputs": [
    {
     "name": "stdout",
     "output_type": "stream",
     "text": [
      "Prediction:  2\n",
      "Actual:  2\n",
      "\n",
      "Prediction:  4\n",
      "Actual:  4\n",
      "\n",
      "Prediction:  2\n",
      "Actual:  2\n",
      "\n",
      "Prediction:  2\n",
      "Actual:  4\n",
      "\n",
      "Prediction:  2\n",
      "Actual:  2\n",
      "\n",
      "Prediction:  2\n",
      "Actual:  2\n",
      "\n",
      "Prediction:  2\n",
      "Actual:  4\n",
      "\n",
      "Prediction:  2\n",
      "Actual:  2\n",
      "\n",
      "Prediction:  2\n",
      "Actual:  2\n",
      "\n",
      "Prediction:  2\n",
      "Actual:  2\n",
      "\n",
      "Prediction:  2\n",
      "Actual:  2\n",
      "\n",
      "Prediction:  2\n",
      "Actual:  2\n",
      "\n",
      "Prediction:  2\n",
      "Actual:  2\n",
      "\n",
      "Prediction:  4\n",
      "Actual:  4\n",
      "\n",
      "Prediction:  2\n",
      "Actual:  2\n",
      "\n",
      "Prediction:  2\n",
      "Actual:  2\n",
      "\n",
      "Prediction:  2\n",
      "Actual:  2\n",
      "\n",
      "Prediction:  2\n",
      "Actual:  2\n",
      "\n",
      "Prediction:  2\n",
      "Actual:  2\n",
      "\n",
      "Prediction:  2\n",
      "Actual:  4\n",
      "\n",
      "Prediction:  2\n",
      "Actual:  2\n",
      "\n",
      "Prediction:  2\n",
      "Actual:  2\n",
      "\n",
      "Prediction:  2\n",
      "Actual:  2\n",
      "\n",
      "Prediction:  2\n",
      "Actual:  2\n",
      "\n",
      "Prediction:  2\n",
      "Actual:  4\n",
      "\n",
      "Prediction:  2\n",
      "Actual:  2\n",
      "\n",
      "Prediction:  2\n",
      "Actual:  2\n",
      "\n",
      "Prediction:  2\n",
      "Actual:  2\n",
      "\n",
      "Prediction:  2\n",
      "Actual:  4\n",
      "\n",
      "Prediction:  2\n",
      "Actual:  2\n",
      "\n",
      "Prediction:  2\n",
      "Actual:  2\n",
      "\n",
      "Prediction:  2\n",
      "Actual:  2\n",
      "\n",
      "Prediction:  2\n",
      "Actual:  2\n",
      "\n",
      "Prediction:  2\n",
      "Actual:  2\n",
      "\n",
      "Prediction:  2\n",
      "Actual:  4\n",
      "\n",
      "Prediction:  4\n",
      "Actual:  4\n",
      "\n",
      "Prediction:  2\n",
      "Actual:  2\n",
      "\n",
      "Prediction:  2\n",
      "Actual:  4\n",
      "\n",
      "Prediction:  2\n",
      "Actual:  2\n",
      "\n",
      "Prediction:  2\n",
      "Actual:  2\n",
      "\n",
      "Prediction:  4\n",
      "Actual:  4\n",
      "\n",
      "Prediction:  4\n",
      "Actual:  2\n",
      "\n",
      "Prediction:  2\n",
      "Actual:  2\n",
      "\n",
      "Prediction:  2\n",
      "Actual:  2\n",
      "\n",
      "Prediction:  2\n",
      "Actual:  2\n",
      "\n",
      "Prediction:  2\n",
      "Actual:  2\n",
      "\n",
      "Prediction:  4\n",
      "Actual:  4\n",
      "\n",
      "Prediction:  4\n",
      "Actual:  4\n",
      "\n",
      "Prediction:  2\n",
      "Actual:  2\n",
      "\n",
      "Prediction:  2\n",
      "Actual:  2\n",
      "\n",
      "Prediction:  2\n",
      "Actual:  2\n",
      "\n",
      "Prediction:  2\n",
      "Actual:  2\n",
      "\n",
      "Prediction:  2\n",
      "Actual:  2\n",
      "\n",
      "Prediction:  2\n",
      "Actual:  2\n",
      "\n",
      "Prediction:  2\n",
      "Actual:  2\n",
      "\n",
      "Prediction:  2\n",
      "Actual:  2\n",
      "\n",
      "Prediction:  4\n",
      "Actual:  4\n",
      "\n",
      "Prediction:  2\n",
      "Actual:  4\n",
      "\n",
      "Prediction:  2\n",
      "Actual:  2\n",
      "\n",
      "Prediction:  4\n",
      "Actual:  4\n",
      "\n",
      "Prediction:  4\n",
      "Actual:  4\n",
      "\n",
      "Prediction:  2\n",
      "Actual:  2\n",
      "\n",
      "Prediction:  2\n",
      "Actual:  2\n",
      "\n",
      "Prediction:  2\n",
      "Actual:  2\n",
      "\n",
      "Prediction:  4\n",
      "Actual:  4\n",
      "\n",
      "Prediction:  2\n",
      "Actual:  2\n",
      "\n",
      "Prediction:  4\n",
      "Actual:  4\n",
      "\n",
      "Prediction:  2\n",
      "Actual:  2\n",
      "\n",
      "Prediction:  2\n",
      "Actual:  2\n",
      "\n",
      "Prediction:  2\n",
      "Actual:  2\n",
      "\n",
      "Prediction:  2\n",
      "Actual:  2\n",
      "\n",
      "Prediction:  4\n",
      "Actual:  4\n",
      "\n",
      "Prediction:  4\n",
      "Actual:  4\n",
      "\n",
      "Prediction:  2\n",
      "Actual:  2\n",
      "\n",
      "Prediction:  2\n",
      "Actual:  2\n",
      "\n",
      "Prediction:  2\n",
      "Actual:  2\n",
      "\n",
      "Prediction:  2\n",
      "Actual:  2\n",
      "\n",
      "Prediction:  2\n",
      "Actual:  2\n",
      "\n",
      "Prediction:  2\n",
      "Actual:  2\n",
      "\n",
      "Prediction:  2\n",
      "Actual:  2\n",
      "\n",
      "Prediction:  2\n",
      "Actual:  2\n",
      "\n",
      "Prediction:  2\n",
      "Actual:  2\n",
      "\n",
      "Prediction:  2\n",
      "Actual:  2\n",
      "\n",
      "Prediction:  2\n",
      "Actual:  2\n",
      "\n",
      "Prediction:  4\n",
      "Actual:  4\n",
      "\n",
      "Prediction:  4\n",
      "Actual:  4\n",
      "\n",
      "Prediction:  2\n",
      "Actual:  2\n",
      "\n",
      "Prediction:  2\n",
      "Actual:  2\n",
      "\n",
      "Prediction:  2\n",
      "Actual:  2\n",
      "\n",
      "Prediction:  2\n",
      "Actual:  4\n",
      "\n",
      "Prediction:  2\n",
      "Actual:  2\n",
      "\n",
      "Prediction:  2\n",
      "Actual:  2\n",
      "\n",
      "Prediction:  2\n",
      "Actual:  2\n",
      "\n",
      "Prediction:  2\n",
      "Actual:  4\n",
      "\n",
      "Prediction:  2\n",
      "Actual:  2\n",
      "\n",
      "Prediction:  4\n",
      "Actual:  4\n",
      "\n",
      "Prediction:  2\n",
      "Actual:  2\n",
      "\n",
      "Prediction:  4\n",
      "Actual:  4\n",
      "\n",
      "Prediction:  2\n",
      "Actual:  2\n",
      "\n",
      "Prediction:  2\n",
      "Actual:  4\n",
      "\n",
      "Prediction:  2\n",
      "Actual:  2\n",
      "\n",
      "Prediction:  4\n",
      "Actual:  4\n",
      "\n",
      "Prediction:  2\n",
      "Actual:  4\n",
      "\n",
      "Prediction:  2\n",
      "Actual:  2\n",
      "\n",
      "Prediction:  4\n",
      "Actual:  4\n",
      "\n",
      "Prediction:  4\n",
      "Actual:  4\n",
      "\n",
      "Prediction:  2\n",
      "Actual:  4\n",
      "\n",
      "Prediction:  4\n",
      "Actual:  4\n",
      "\n",
      "Prediction:  2\n",
      "Actual:  4\n",
      "\n",
      "Prediction:  2\n",
      "Actual:  2\n",
      "\n",
      "Prediction:  4\n",
      "Actual:  4\n",
      "\n",
      "Prediction:  2\n",
      "Actual:  2\n",
      "\n",
      "Prediction:  2\n",
      "Actual:  2\n",
      "\n",
      "Prediction:  2\n",
      "Actual:  4\n",
      "\n",
      "Prediction:  2\n",
      "Actual:  2\n",
      "\n",
      "Prediction:  4\n",
      "Actual:  4\n",
      "\n",
      "Prediction:  2\n",
      "Actual:  2\n",
      "\n",
      "Prediction:  4\n",
      "Actual:  4\n",
      "\n",
      "Prediction:  2\n",
      "Actual:  2\n",
      "\n",
      "Prediction:  2\n",
      "Actual:  2\n",
      "\n",
      "Prediction:  2\n",
      "Actual:  4\n",
      "\n",
      "Prediction:  4\n",
      "Actual:  4\n",
      "\n",
      "Prediction:  4\n",
      "Actual:  4\n",
      "\n",
      "Prediction:  2\n",
      "Actual:  2\n",
      "\n",
      "Prediction:  2\n",
      "Actual:  4\n",
      "\n",
      "Prediction:  2\n",
      "Actual:  2\n",
      "\n",
      "Prediction:  2\n",
      "Actual:  4\n",
      "\n",
      "Prediction:  2\n",
      "Actual:  2\n",
      "\n",
      "Prediction:  2\n",
      "Actual:  2\n",
      "\n",
      "Prediction:  2\n",
      "Actual:  2\n",
      "\n",
      "Prediction:  2\n",
      "Actual:  2\n",
      "\n",
      "Prediction:  2\n",
      "Actual:  2\n",
      "\n",
      "Prediction:  2\n",
      "Actual:  2\n",
      "\n",
      "Prediction:  2\n",
      "Actual:  2\n",
      "\n",
      "Prediction:  2\n",
      "Actual:  2\n",
      "\n",
      "Prediction:  2\n",
      "Actual:  2\n",
      "\n",
      "Prediction:  4\n",
      "Actual:  4\n",
      "\n",
      "Prediction:  2\n",
      "Actual:  4\n",
      "\n",
      "Prediction:  4\n",
      "Actual:  4\n",
      "\n",
      "Prediction:  4\n",
      "Actual:  4\n",
      "\n"
     ]
    }
   ],
   "source": [
    "predictions = classifier.predict(X_test)\n",
    "names = [\"2\", \"4\"]\n",
    "\n",
    "for x in range(len(predictions)):\n",
    "    print(\"Prediction: \", names[predictions[x]])\n",
    "    print(\"Actual: \", names[Y_test[x]])\n",
    "    print(\"\")"
   ]
  },
  {
   "cell_type": "markdown",
   "metadata": {},
   "source": [
    "### Confusion Matrix for SVM"
   ]
  },
  {
   "cell_type": "code",
   "execution_count": 29,
   "metadata": {},
   "outputs": [
    {
     "name": "stdout",
     "output_type": "stream",
     "text": [
      "120\n"
     ]
    },
    {
     "data": {
      "image/png": "[encoded data removed]",
      "text/plain": [
       "<Figure size 360x360 with 1 Axes>"
      ]
     },
     "metadata": {
      "needs_background": "light"
     },
     "output_type": "display_data"
    }
   ],
   "source": [
    "cm = confusion_matrix(Y_test, Y_pred)\n",
    "c = print(cm[0, 0] + cm[1, 1])\n",
    "\n",
    "fig, ax = plt.subplots(figsize=(5, 5))\n",
    "ax.matshow(cm, cmap=plt.cm.Blues, alpha=0.3)\n",
    "for i in range(cm.shape[0]):\n",
    "    for j in range(cm.shape[1]):\n",
    "        ax.text(x=j, y=i, s=cm[i, j], va='center', ha='center', size='xx-large')\n",
    "\n",
    "\n",
    "plt.xlabel('Predictions', fontsize=18)\n",
    "plt.ylabel('Actuals', fontsize=18)\n",
    "plt.title('Confusion Matrix', fontsize=18)\n",
    "plt.show()"
   ]
  },
  {
   "cell_type": "markdown",
   "metadata": {},
   "source": [
    "### F1 Score for SVM"
   ]
  },
  {
   "cell_type": "code",
   "execution_count": 30,
   "metadata": {},
   "outputs": [
    {
     "name": "stdout",
     "output_type": "stream",
     "text": [
      "Precision: 0.967\n",
      "Recall: 0.604\n",
      "Accuracy: 0.857\n",
      "F1 Score: 0.744\n"
     ]
    }
   ],
   "source": [
    "print(\"Precision: %.3f\" % precision_score(Y_test, Y_pred))\n",
    "print(\"Recall: %.3f\" % recall_score(Y_test, Y_pred))\n",
    "print(\"Accuracy: %.3f\" % accuracy_score(Y_test, Y_pred))\n",
    "print(\"F1 Score: %.3f\" % f1_score(Y_test, Y_pred))\n",
    "\n",
    "SVM_ps = precision_score(Y_test, Y_pred)\n",
    "SVM_rs = recall_score(Y_test, Y_pred)\n",
    "SVM_as = accuracy_score(Y_test, Y_pred)\n",
    "SVM_f1 = f1_score(Y_test, Y_pred)\n"
   ]
  },
  {
   "cell_type": "code",
   "execution_count": 31,
   "metadata": {},
   "outputs": [
    {
     "data": {
      "image/png": "[encoded data removed]",
      "text/plain": [
       "<Figure size 1080x576 with 1 Axes>"
      ]
     },
     "metadata": {
      "needs_background": "light"
     },
     "output_type": "display_data"
    }
   ],
   "source": [
    "group = ['Precision','Recall', 'Accuracy', 'F1 Score']\n",
    "data_KNN = [KNN_ps, KNN_rs, KNN_as, KNN_f1]\n",
    "data_SVM = [SVM_ps, SVM_rs, SVM_as, SVM_f1]\n",
    "\n",
    "\n",
    "KNN_array = np.array(data_KNN)\n",
    "percentage_KNN = KNN_array * 100\n",
    "rounded_KNN = np.round(percentage_KNN, 2)\n",
    "\n",
    "SVM_array = np.array(data_SVM)\n",
    "percentage_SVM = SVM_array * 100\n",
    "rounded_SVM = np.round(percentage_SVM, 2)\n",
    "\n",
    "plt.rcParams[\"figure.figsize\"] = (15,8)\n",
    "\n",
    "width = 0.25\n",
    "\n",
    "x = np.arange(len(group))\n",
    "\n",
    "fig, ax = plt.subplots()\n",
    "KNN_bar = ax.bar(x - width/2, rounded_KNN, width, label='KNN')\n",
    "SVM_bar = ax.bar(x + width/2, rounded_SVM, width, label='SVM')\n",
    "\n",
    "ax.set_ylabel('Score')\n",
    "ax.set_title('Comparison of 2 Algorithm')\n",
    "ax.set_xticks(x,group)\n",
    "ax.legend()\n",
    "\n",
    "ax.bar_label(KNN_bar, padding=2)\n",
    "ax.bar_label(SVM_bar, padding=2)\n",
    "\n",
    "fig.tight_layout()\n",
    "plt.show()"
   ]
  }
 ],
 "metadata": {
  "kernelspec": {
   "display_name": "Python 3",
   "language": "python",
   "name": "python3"
  },
  "language_info": {
   "codemirror_mode": {
    "name": "ipython",
    "version": 3
   },
   "file_extension": ".py",
   "mimetype": "text/x-python",
   "name": "python",
   "nbconvert_exporter": "python",
   "pygments_lexer": "ipython3",
   "version": "3.8.8"
  }
 },
 "nbformat": 4,
 "nbformat_minor": 4
}
